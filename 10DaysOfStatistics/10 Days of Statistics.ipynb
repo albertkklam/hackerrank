{
 "cells": [
  {
   "cell_type": "markdown",
   "metadata": {},
   "source": [
    "# Day 0: Mean, Median, and Mode"
   ]
  },
  {
   "cell_type": "code",
   "execution_count": 28,
   "metadata": {},
   "outputs": [
    {
     "name": "stdin",
     "output_type": "stream",
     "text": [
      " 6\n",
      " 2 2 2 1 1 1\n"
     ]
    },
    {
     "name": "stdout",
     "output_type": "stream",
     "text": [
      "1.5\n",
      "1.5\n",
      "1\n"
     ]
    }
   ],
   "source": [
    "N = int(input())\n",
    "\n",
    "arr = list(map(int, input().strip().split(' ')))\n",
    "mean = sum(arr) / N\n",
    "sorted_arr = sorted(arr)\n",
    "if N % 2 == 1:\n",
    "    median = sorted_arr[N//2]\n",
    "else:\n",
    "    median = sum(sorted_arr[N//2 - 1: N//2 + 1]) / 2\n",
    "\n",
    "count = 0\n",
    "max_count = 0\n",
    "mode = None\n",
    "last_entry = None\n",
    "\n",
    "for entry in sorted_arr:\n",
    "    if mode is None:\n",
    "        count += 1\n",
    "        max_count = count\n",
    "        mode = entry\n",
    "        last_entry = entry\n",
    "    elif entry == last_entry:\n",
    "        count += 1\n",
    "        if count > max_count:\n",
    "            max_count = count\n",
    "            mode = entry\n",
    "        else:\n",
    "            pass\n",
    "        last_entry = entry\n",
    "    else:\n",
    "        count = 1\n",
    "        last_entry = entry\n",
    "             \n",
    "print(mean)\n",
    "print(median)\n",
    "print(mode)"
   ]
  },
  {
   "cell_type": "markdown",
   "metadata": {},
   "source": [
    "# Day 0: Weighted Mean"
   ]
  },
  {
   "cell_type": "code",
   "execution_count": 46,
   "metadata": {},
   "outputs": [
    {
     "name": "stdin",
     "output_type": "stream",
     "text": [
      " 5\n",
      " 10 40 30 50 20\n",
      " 1 2 3 4 5\n"
     ]
    },
    {
     "name": "stdout",
     "output_type": "stream",
     "text": [
      "32.0\n"
     ]
    }
   ],
   "source": [
    "N = int(input())\n",
    "\n",
    "X = list(map(int, input().strip().split(' ')))\n",
    "W = list(map(int, input().strip().split(' ')))\n",
    "\n",
    "weighted_mean = sum([X[i] * W[i] for i in range(N)]) / sum(W)\n",
    "print(round(weighted_mean,1))"
   ]
  },
  {
   "cell_type": "markdown",
   "metadata": {},
   "source": [
    "# Day 1: Quartiles"
   ]
  },
  {
   "cell_type": "code",
   "execution_count": 38,
   "metadata": {},
   "outputs": [
    {
     "name": "stdin",
     "output_type": "stream",
     "text": [
      " 9\n",
      " 3 7 8 5 12 14 21 13 18\n"
     ]
    },
    {
     "name": "stdout",
     "output_type": "stream",
     "text": [
      "6\n",
      "12\n",
      "16\n"
     ]
    }
   ],
   "source": [
    "def median(sorted_arr):\n",
    "    n = len(sorted_arr)\n",
    "    if n % 2 == 0:\n",
    "        return int(sum(sorted_arr[n//2 - 1: n//2 + 1]) / 2)\n",
    "    else:\n",
    "        return sorted_arr[n//2]\n",
    "\n",
    "def quartiles(n, sorted_arr):\n",
    "    q1 = median(sorted_arr[:n//2])\n",
    "    q2 = median(sorted_arr)\n",
    "    if n % 2 == 0:\n",
    "        q3 = median(sorted_arr[n//2:])\n",
    "    else:\n",
    "        q3 = median(sorted_arr[n//2 + 1:])\n",
    "    return q1, q2, q3\n",
    "\n",
    "n = int(input())\n",
    "sorted_arr = sorted(list(map(int, input().strip().split(' '))))\n",
    "\n",
    "print(*quartiles(n, sorted_arr), sep = \"\\n\")"
   ]
  },
  {
   "cell_type": "markdown",
   "metadata": {},
   "source": [
    "# Day 1: Standard Deviation"
   ]
  },
  {
   "cell_type": "code",
   "execution_count": 43,
   "metadata": {},
   "outputs": [
    {
     "name": "stdin",
     "output_type": "stream",
     "text": [
      " 5\n",
      " 10 40 30 50 20\n"
     ]
    },
    {
     "name": "stdout",
     "output_type": "stream",
     "text": [
      "14.1\n"
     ]
    }
   ],
   "source": [
    "N = int(input())\n",
    "arr = list(map(int, input().strip().split(' ')))\n",
    "\n",
    "mean = sum(arr) / N\n",
    "sd = (sum([(entry - mean)**2 for entry in arr]) / N)**0.5\n",
    "print(round(sd,1))"
   ]
  },
  {
   "cell_type": "markdown",
   "metadata": {},
   "source": [
    "# Day 1: Interquartile Range"
   ]
  },
  {
   "cell_type": "code",
   "execution_count": 73,
   "metadata": {},
   "outputs": [
    {
     "name": "stdin",
     "output_type": "stream",
     "text": [
      " 6\n",
      " 6 12 8 10 20 16\n",
      " 5 4 3 2 1 5\n"
     ]
    },
    {
     "name": "stdout",
     "output_type": "stream",
     "text": [
      "9.0\n"
     ]
    }
   ],
   "source": [
    "def median(sorted_arr):\n",
    "    n = len(sorted_arr)\n",
    "    if n % 2 == 0:\n",
    "        return int(sum(sorted_arr[n//2 - 1: n//2 + 1]) / 2)\n",
    "    else:\n",
    "        return sorted_arr[n//2]\n",
    "\n",
    "def quartiles(n, sorted_arr):\n",
    "    q1 = median(sorted_arr[:n//2])\n",
    "    q2 = median(sorted_arr)\n",
    "    if n % 2 == 0:\n",
    "        q3 = median(sorted_arr[n//2:])\n",
    "    else:\n",
    "        q3 = median(sorted_arr[n//2 + 1:])\n",
    "    return q1, q2, q3\n",
    "\n",
    "n = int(input())\n",
    "X = list(map(int, input().strip().split(' ')))\n",
    "F = list(map(int, input().strip().split(' ')))\n",
    "\n",
    "sorted_arr = sorted([item for sublist in [[X[i]]*F[i] for i in range(n)] for item in sublist])\n",
    "q1, q2, q3 = quartiles(sum(F), sorted_arr)\n",
    "print(\"{0:.1f}\".format(q3 - q1))"
   ]
  },
  {
   "cell_type": "code",
   "execution_count": null,
   "metadata": {},
   "outputs": [],
   "source": []
  }
 ],
 "metadata": {
  "kernelspec": {
   "display_name": "Python 3",
   "language": "python",
   "name": "python3"
  },
  "language_info": {
   "codemirror_mode": {
    "name": "ipython",
    "version": 3
   },
   "file_extension": ".py",
   "mimetype": "text/x-python",
   "name": "python",
   "nbconvert_exporter": "python",
   "pygments_lexer": "ipython3",
   "version": "3.7.0"
  }
 },
 "nbformat": 4,
 "nbformat_minor": 2
}
