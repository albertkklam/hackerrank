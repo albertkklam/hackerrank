{
 "cells": [
  {
   "cell_type": "markdown",
   "metadata": {},
   "source": [
    "# Day 0: Mean, Median, and Mode"
   ]
  },
  {
   "cell_type": "code",
   "execution_count": 28,
   "metadata": {},
   "outputs": [
    {
     "name": "stdin",
     "output_type": "stream",
     "text": [
      " 6\n",
      " 2 2 2 1 1 1\n"
     ]
    },
    {
     "name": "stdout",
     "output_type": "stream",
     "text": [
      "1.5\n",
      "1.5\n",
      "1\n"
     ]
    }
   ],
   "source": [
    "N = int(input())\n",
    "\n",
    "arr = list(map(int, input().strip().split(' ')))\n",
    "mean = sum(arr) / N\n",
    "sorted_arr = sorted(arr)\n",
    "if N % 2 == 1:\n",
    "    median = sorted_arr[N//2]\n",
    "else:\n",
    "    median = sum(sorted_arr[N//2 - 1: N//2 + 1]) / 2\n",
    "\n",
    "count = 0\n",
    "max_count = 0\n",
    "mode = None\n",
    "last_entry = None\n",
    "\n",
    "for entry in sorted_arr:\n",
    "    if mode is None:\n",
    "        count += 1\n",
    "        max_count = count\n",
    "        mode = entry\n",
    "        last_entry = entry\n",
    "    elif entry == last_entry:\n",
    "        count += 1\n",
    "        if count > max_count:\n",
    "            max_count = count\n",
    "            mode = entry\n",
    "        else:\n",
    "            pass\n",
    "        last_entry = entry\n",
    "    else:\n",
    "        count = 1\n",
    "        last_entry = entry\n",
    "             \n",
    "print(mean)\n",
    "print(median)\n",
    "print(mode)"
   ]
  },
  {
   "cell_type": "markdown",
   "metadata": {},
   "source": [
    "# Day 0: Weighted Mean"
   ]
  },
  {
   "cell_type": "code",
   "execution_count": 46,
   "metadata": {},
   "outputs": [
    {
     "name": "stdin",
     "output_type": "stream",
     "text": [
      " 5\n",
      " 10 40 30 50 20\n",
      " 1 2 3 4 5\n"
     ]
    },
    {
     "name": "stdout",
     "output_type": "stream",
     "text": [
      "32.0\n"
     ]
    }
   ],
   "source": [
    "N = int(input())\n",
    "\n",
    "X = list(map(int, input().strip().split(' ')))\n",
    "W = list(map(int, input().strip().split(' ')))\n",
    "\n",
    "weighted_mean = sum([X[i] * W[i] for i in range(N)]) / sum(W)\n",
    "print(round(weighted_mean,1))"
   ]
  },
  {
   "cell_type": "markdown",
   "metadata": {},
   "source": [
    "# Day 1: Quartiles"
   ]
  },
  {
   "cell_type": "code",
   "execution_count": 38,
   "metadata": {},
   "outputs": [
    {
     "name": "stdin",
     "output_type": "stream",
     "text": [
      " 9\n",
      " 3 7 8 5 12 14 21 13 18\n"
     ]
    },
    {
     "name": "stdout",
     "output_type": "stream",
     "text": [
      "6\n",
      "12\n",
      "16\n"
     ]
    }
   ],
   "source": [
    "def median(sorted_arr):\n",
    "    n = len(sorted_arr)\n",
    "    if n % 2 == 0:\n",
    "        return int(sum(sorted_arr[n//2 - 1: n//2 + 1]) / 2)\n",
    "    else:\n",
    "        return sorted_arr[n//2]\n",
    "\n",
    "def quartiles(n, sorted_arr):\n",
    "    q1 = median(sorted_arr[:n//2])\n",
    "    q2 = median(sorted_arr)\n",
    "    if n % 2 == 0:\n",
    "        q3 = median(sorted_arr[n//2:])\n",
    "    else:\n",
    "        q3 = median(sorted_arr[n//2 + 1:])\n",
    "    return q1, q2, q3\n",
    "\n",
    "n = int(input())\n",
    "sorted_arr = sorted(list(map(int, input().strip().split(' '))))\n",
    "\n",
    "print(*quartiles(n, sorted_arr), sep = \"\\n\")"
   ]
  },
  {
   "cell_type": "markdown",
   "metadata": {},
   "source": [
    "# Day 1: Standard Deviation"
   ]
  },
  {
   "cell_type": "code",
   "execution_count": 43,
   "metadata": {},
   "outputs": [
    {
     "name": "stdin",
     "output_type": "stream",
     "text": [
      " 5\n",
      " 10 40 30 50 20\n"
     ]
    },
    {
     "name": "stdout",
     "output_type": "stream",
     "text": [
      "14.1\n"
     ]
    }
   ],
   "source": [
    "N = int(input())\n",
    "arr = list(map(int, input().strip().split(' ')))\n",
    "\n",
    "mean = sum(arr) / N\n",
    "sd = (sum([(entry - mean)**2 for entry in arr]) / N)**0.5\n",
    "print(round(sd,1))"
   ]
  },
  {
   "cell_type": "markdown",
   "metadata": {},
   "source": [
    "# Day 1: Interquartile Range"
   ]
  },
  {
   "cell_type": "code",
   "execution_count": 73,
   "metadata": {},
   "outputs": [
    {
     "name": "stdin",
     "output_type": "stream",
     "text": [
      " 6\n",
      " 6 12 8 10 20 16\n",
      " 5 4 3 2 1 5\n"
     ]
    },
    {
     "name": "stdout",
     "output_type": "stream",
     "text": [
      "9.0\n"
     ]
    }
   ],
   "source": [
    "def median(sorted_arr):\n",
    "    n = len(sorted_arr)\n",
    "    if n % 2 == 0:\n",
    "        return int(sum(sorted_arr[n//2 - 1: n//2 + 1]) / 2)\n",
    "    else:\n",
    "        return sorted_arr[n//2]\n",
    "\n",
    "def quartiles(n, sorted_arr):\n",
    "    q1 = median(sorted_arr[:n//2])\n",
    "    q2 = median(sorted_arr)\n",
    "    if n % 2 == 0:\n",
    "        q3 = median(sorted_arr[n//2:])\n",
    "    else:\n",
    "        q3 = median(sorted_arr[n//2 + 1:])\n",
    "    return q1, q2, q3\n",
    "\n",
    "n = int(input())\n",
    "X = list(map(int, input().strip().split(' ')))\n",
    "F = list(map(int, input().strip().split(' ')))\n",
    "\n",
    "sorted_arr = sorted([item for sublist in [[X[i]]*F[i] for i in range(n)] for item in sublist])\n",
    "q1, q2, q3 = quartiles(sum(F), sorted_arr)\n",
    "print(\"{0:.1f}\".format(q3 - q1))"
   ]
  },
  {
   "cell_type": "markdown",
   "metadata": {},
   "source": [
    "# Day 4: Binomial Distribution I"
   ]
  },
  {
   "cell_type": "code",
   "execution_count": 86,
   "metadata": {},
   "outputs": [
    {
     "name": "stdin",
     "output_type": "stream",
     "text": [
      " 1.09 1\n"
     ]
    },
    {
     "name": "stdout",
     "output_type": "stream",
     "text": [
      "0.696\n"
     ]
    }
   ],
   "source": [
    "import math\n",
    "\n",
    "def binomial_pdf(x, n, p):\n",
    "    return (math.factorial(n) / (math.factorial(x) * math.factorial(n - x))) * (p ** x) * ((1 - p) ** (n - x))\n",
    "\n",
    "boy_odds, girl_odds = map(float, input().strip().split(' '))\n",
    "odds = boy_odds / girl_odds\n",
    "n = 6\n",
    "\n",
    "prob = sum([binomial_pdf(x, n, p = odds / (1 + odds)) for x in range(3, n+1)])\n",
    "print(round(prob, 3))\n",
    "    "
   ]
  },
  {
   "cell_type": "markdown",
   "metadata": {},
   "source": [
    "# Day 4: Binomial Distribution II"
   ]
  },
  {
   "cell_type": "code",
   "execution_count": 89,
   "metadata": {},
   "outputs": [
    {
     "name": "stdin",
     "output_type": "stream",
     "text": [
      " 12 10\n"
     ]
    },
    {
     "name": "stdout",
     "output_type": "stream",
     "text": [
      "0.891\n",
      "0.342\n"
     ]
    }
   ],
   "source": [
    "import math\n",
    "\n",
    "def binomial_pdf(x, n, p):\n",
    "    return (math.factorial(n) / (math.factorial(x) * math.factorial(n - x))) * (p ** x) * ((1 - p) ** (n - x))\n",
    "\n",
    "rejects, n = map(int, input().strip().split(' '))\n",
    "p = rejects / 100\n",
    "\n",
    "no_more_than_two = sum([binomial_pdf(x, n, p) for x in range(3)])\n",
    "at_least_two = sum([binomial_pdf(x, n, p) for x in range(2,n+1)])\n",
    "print(round(no_more_than_two, 3))\n",
    "print(round(at_least_two, 3))"
   ]
  },
  {
   "cell_type": "markdown",
   "metadata": {},
   "source": [
    "# Day 4: Geometric Distribution I"
   ]
  },
  {
   "cell_type": "code",
   "execution_count": 90,
   "metadata": {},
   "outputs": [
    {
     "name": "stdin",
     "output_type": "stream",
     "text": [
      " 1 3\n",
      " 5\n"
     ]
    },
    {
     "name": "stdout",
     "output_type": "stream",
     "text": [
      "0.066\n"
     ]
    }
   ],
   "source": [
    "def geom_pdf(n, p):\n",
    "    return ((1 - p) ** (n - 1)) * p\n",
    "\n",
    "num, denom = map(int, input().strip().split(' '))\n",
    "p = num / denom\n",
    "\n",
    "n = int(input().strip())\n",
    "print(round(geom_pdf(n,p), 3))"
   ]
  },
  {
   "cell_type": "markdown",
   "metadata": {},
   "source": [
    "# Day 4: Geometric Distribution II"
   ]
  },
  {
   "cell_type": "code",
   "execution_count": 94,
   "metadata": {},
   "outputs": [
    {
     "name": "stdin",
     "output_type": "stream",
     "text": [
      " 1 3\n",
      " 5\n"
     ]
    },
    {
     "name": "stdout",
     "output_type": "stream",
     "text": [
      "0.868\n"
     ]
    }
   ],
   "source": [
    "def geom_pdf(n, p):\n",
    "    return ((1 - p) ** (n - 1)) * p\n",
    "\n",
    "num, denom = map(int, input().strip().split(' '))\n",
    "p = num / denom\n",
    "\n",
    "n = int(input().strip())\n",
    "prob = sum([geom_pdf(x,p) for x in range(1, n + 1)])\n",
    "print(round(prob, 3))"
   ]
  },
  {
   "cell_type": "markdown",
   "metadata": {},
   "source": [
    "# Day 5: Poisson Distribution I"
   ]
  },
  {
   "cell_type": "code",
   "execution_count": 96,
   "metadata": {},
   "outputs": [
    {
     "name": "stdin",
     "output_type": "stream",
     "text": [
      " 2.5\n",
      " 5\n"
     ]
    },
    {
     "name": "stdout",
     "output_type": "stream",
     "text": [
      "0.067\n"
     ]
    }
   ],
   "source": [
    "import math\n",
    "\n",
    "def poisson_pdf(x, lamb):\n",
    "    return ((lamb ** x) * math.exp(-lamb)) / (math.factorial(x))\n",
    "\n",
    "lamb = float(input().strip())\n",
    "x = int(input().strip())\n",
    "\n",
    "print(round(poisson_pdf(x, lamb), 3))"
   ]
  },
  {
   "cell_type": "markdown",
   "metadata": {},
   "source": [
    "# Day 5: Poisson Distribution II"
   ]
  },
  {
   "cell_type": "code",
   "execution_count": 97,
   "metadata": {},
   "outputs": [
    {
     "name": "stdin",
     "output_type": "stream",
     "text": [
      " 0.88 1.55\n"
     ]
    },
    {
     "name": "stdout",
     "output_type": "stream",
     "text": [
      "226.176\n",
      "286.1\n"
     ]
    }
   ],
   "source": [
    "lamb_a, lamb_b = map(float, input().strip().split(' '))\n",
    "\n",
    "cost_a = 160 + (40 * (lamb_a + lamb_a ** 2))\n",
    "cost_b = 128 + (40 * (lamb_b + lamb_b ** 2))\n",
    "\n",
    "print(round(cost_a, 3))\n",
    "print(round(cost_b, 3))"
   ]
  },
  {
   "cell_type": "markdown",
   "metadata": {},
   "source": [
    "# Day 5: Normal Distribution I"
   ]
  },
  {
   "cell_type": "code",
   "execution_count": 99,
   "metadata": {},
   "outputs": [
    {
     "name": "stdin",
     "output_type": "stream",
     "text": [
      " 20 2\n",
      " 19.5\n"
     ]
    },
    {
     "name": "stdout",
     "output_type": "stream",
     "text": [
      "0.401\n"
     ]
    },
    {
     "name": "stdin",
     "output_type": "stream",
     "text": [
      " 20 22\n"
     ]
    },
    {
     "name": "stdout",
     "output_type": "stream",
     "text": [
      "0.341\n"
     ]
    }
   ],
   "source": [
    "import math\n",
    "\n",
    "def normal_cdf(x, mu, sigma):\n",
    "    return 0.5 * (1 + math.erf((x - mu) / (sigma * (2 ** 0.5))))\n",
    "\n",
    "mu, sigma = map(float, input().strip().split(' '))\n",
    "\n",
    "print(round(normal_cdf(float(input().strip()), mu, sigma), 3))\n",
    "\n",
    "a, b = map(float, input().strip().split(' '))\n",
    "print(round(normal_cdf(b, mu, sigma) - normal_cdf(a, mu, sigma), 3))"
   ]
  },
  {
   "cell_type": "markdown",
   "metadata": {},
   "source": [
    "# Day 5: Normal Distribution II"
   ]
  },
  {
   "cell_type": "code",
   "execution_count": 104,
   "metadata": {},
   "outputs": [
    {
     "name": "stdin",
     "output_type": "stream",
     "text": [
      " 70 10\n",
      " 80\n",
      " 60\n"
     ]
    },
    {
     "name": "stdout",
     "output_type": "stream",
     "text": [
      "15.87\n",
      "84.13\n",
      "15.87\n"
     ]
    }
   ],
   "source": [
    "import math\n",
    "\n",
    "def normal_cdf(x, mu, sigma):\n",
    "    return 0.5 * (1 + math.erf((x - mu) / (sigma * (2 ** 0.5))))\n",
    "\n",
    "mu, sigma = map(float, input().strip().split(' '))\n",
    "\n",
    "a = int(input().strip())\n",
    "b = int(input().strip())\n",
    "\n",
    "print(round((1 - normal_cdf(a, mu, sigma)) * 100, 2))\n",
    "print(round((1 - normal_cdf(b, mu, sigma)) * 100, 2))\n",
    "print(round(normal_cdf(b, mu, sigma) * 100, 2))"
   ]
  },
  {
   "cell_type": "markdown",
   "metadata": {},
   "source": [
    "# Day 6: Central Limit Theorem I"
   ]
  },
  {
   "cell_type": "code",
   "execution_count": 106,
   "metadata": {},
   "outputs": [
    {
     "name": "stdin",
     "output_type": "stream",
     "text": [
      " 9800\n",
      " 49\n",
      " 205\n",
      " 15\n"
     ]
    },
    {
     "name": "stdout",
     "output_type": "stream",
     "text": [
      "0.0098\n"
     ]
    }
   ],
   "source": [
    "import math\n",
    "\n",
    "def normal_cdf(x, mu, sigma):\n",
    "    return 0.5 * (1 + math.erf((x - mu) / (sigma * (2 ** 0.5))))\n",
    "\n",
    "max_weight = int(input().strip())\n",
    "num_boxes = int(input().strip())\n",
    "mu = int(input().strip())\n",
    "sigma = int(input().strip())\n",
    "\n",
    "prob = normal_cdf(max_weight, num_boxes * mu, (num_boxes**0.5 * sigma))\n",
    "print(round(prob, 4))"
   ]
  },
  {
   "cell_type": "markdown",
   "metadata": {},
   "source": [
    "# Day 6: Central Limit Theorem II"
   ]
  },
  {
   "cell_type": "code",
   "execution_count": 108,
   "metadata": {},
   "outputs": [
    {
     "name": "stdin",
     "output_type": "stream",
     "text": [
      " 250\n",
      " 100\n",
      " 2.4\n",
      " 2.0\n"
     ]
    },
    {
     "name": "stdout",
     "output_type": "stream",
     "text": [
      "0.6915\n"
     ]
    }
   ],
   "source": [
    "import math\n",
    "\n",
    "def normal_cdf(x, mu, sigma):\n",
    "    return 0.5 * (1 + math.erf((x - mu) / (sigma * (2 ** 0.5))))\n",
    "\n",
    "num_tickets = int(input().strip())\n",
    "num_students = int(input().strip())\n",
    "mu = float(input().strip())\n",
    "sigma = float(input().strip())\n",
    "\n",
    "prob = normal_cdf(num_tickets, num_students * mu, (num_students**0.5 * sigma))\n",
    "print(round(prob, 4))"
   ]
  },
  {
   "cell_type": "markdown",
   "metadata": {},
   "source": [
    "# Day 6: Central Limit Theorem III"
   ]
  },
  {
   "cell_type": "code",
   "execution_count": 110,
   "metadata": {},
   "outputs": [
    {
     "name": "stdin",
     "output_type": "stream",
     "text": [
      " 100\n",
      " 500\n",
      " 80\n",
      " .95\n",
      " 1.96\n"
     ]
    },
    {
     "name": "stdout",
     "output_type": "stream",
     "text": [
      "484.32\n",
      "515.68\n"
     ]
    }
   ],
   "source": [
    "sample_size = int(input().strip())\n",
    "mu = int(input().strip())\n",
    "sigma = int(input().strip())\n",
    "alpha = float(input().strip())\n",
    "z_score = float(input().strip())\n",
    "\n",
    "a = mu - z_score * (sigma / (sample_size ** 0.5))\n",
    "b = mu + z_score * (sigma / (sample_size ** 0.5))\n",
    "\n",
    "print(round(a, 2))\n",
    "print(round(b, 2))"
   ]
  },
  {
   "cell_type": "markdown",
   "metadata": {},
   "source": [
    "# Day 7: Pearson Correlation Coefficient I"
   ]
  },
  {
   "cell_type": "code",
   "execution_count": 112,
   "metadata": {},
   "outputs": [
    {
     "name": "stdin",
     "output_type": "stream",
     "text": [
      " 10\n",
      " 10 9.8 8 7.8 7.7 7 6 5 4 2 \n",
      " 200 44 32 24 22 17 15 12 8 4\n"
     ]
    },
    {
     "name": "stdout",
     "output_type": "stream",
     "text": [
      "0.612\n"
     ]
    }
   ],
   "source": [
    "n = int(input().strip())\n",
    "X = list(map(float, input().strip().split(' ')))\n",
    "Y = list(map(float, input().strip().split(' ')))\n",
    "\n",
    "mean_X = sum(X) / n\n",
    "mean_Y = sum(Y) / n\n",
    "sd_X = (sum([(x - mean_X)**2 for x in X]) / n)**0.5\n",
    "sd_Y = (sum([(y - mean_Y)**2 for y in Y]) / n)**0.5\n",
    "\n",
    "pearson_coef = sum([(X[i] - mean_X) * (Y[i] - mean_Y) for i in range(n)]) / (n * sd_X * sd_Y)\n",
    "print(round(pearson_coef, 3))"
   ]
  },
  {
   "cell_type": "markdown",
   "metadata": {},
   "source": [
    "# Day 7: Spearman's Rank Correlation Coefficient"
   ]
  },
  {
   "cell_type": "code",
   "execution_count": 139,
   "metadata": {},
   "outputs": [
    {
     "name": "stdin",
     "output_type": "stream",
     "text": [
      " 10\n",
      " 10 9.8 8 7.8 7.7 1.7 6 5 1.4 2 \n",
      " 200 44 32 24 22 17 15 12 8 4\n"
     ]
    },
    {
     "name": "stdout",
     "output_type": "stream",
     "text": [
      "0.903\n"
     ]
    }
   ],
   "source": [
    "n = int(input().strip())\n",
    "X = list(map(float, input().strip().split(' ')))\n",
    "Y = list(map(float, input().strip().split(' ')))\n",
    "\n",
    "def rank(arr):\n",
    "    sorted_arr = sorted(arr)\n",
    "    return [sorted_arr.index(entry) for entry in arr]\n",
    "\n",
    "rank_X = rank(X)\n",
    "rank_Y = rank(Y)\n",
    "d_2 = sum([(rank_X[i] - rank_Y[i]) ** 2 for i in range(n)])\n",
    "\n",
    "r = 1 - ((6 * d_2) / (n * (n ** 2 - 1)))\n",
    "print(round(r, 3))"
   ]
  },
  {
   "cell_type": "code",
   "execution_count": null,
   "metadata": {},
   "outputs": [],
   "source": []
  }
 ],
 "metadata": {
  "kernelspec": {
   "display_name": "Python 3",
   "language": "python",
   "name": "python3"
  },
  "language_info": {
   "codemirror_mode": {
    "name": "ipython",
    "version": 3
   },
   "file_extension": ".py",
   "mimetype": "text/x-python",
   "name": "python",
   "nbconvert_exporter": "python",
   "pygments_lexer": "ipython3",
   "version": "3.7.0"
  }
 },
 "nbformat": 4,
 "nbformat_minor": 2
}
