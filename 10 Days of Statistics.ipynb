{
 "cells": [
  {
   "cell_type": "markdown",
   "metadata": {},
   "source": [
    "# Day 0: Mean, Median, and Mode"
   ]
  },
  {
   "cell_type": "code",
   "execution_count": 28,
   "metadata": {},
   "outputs": [
    {
     "name": "stdin",
     "output_type": "stream",
     "text": [
      " 6\n",
      " 2 2 2 1 1 1\n"
     ]
    },
    {
     "name": "stdout",
     "output_type": "stream",
     "text": [
      "1.5\n",
      "1.5\n",
      "1\n"
     ]
    }
   ],
   "source": [
    "N = int(input())\n",
    "\n",
    "arr = list(map(int, input().strip().split(' ')))\n",
    "mean = sum(arr) / N\n",
    "sorted_arr = sorted(arr)\n",
    "if N % 2 == 1:\n",
    "    median = sorted_arr[N // 2]\n",
    "else:\n",
    "    median = sum(sorted_arr[N // 2 - 1: N // 2 + 1]) / 2\n",
    "\n",
    "count = 0\n",
    "max_count = 0\n",
    "mode = None\n",
    "last_entry = None\n",
    "\n",
    "for entry in sorted_arr:\n",
    "    if mode is None:\n",
    "        count += 1\n",
    "        max_count = count\n",
    "        mode = entry\n",
    "        last_entry = entry\n",
    "    elif entry == last_entry:\n",
    "        count += 1\n",
    "        if count > max_count:\n",
    "            max_count = count\n",
    "            mode = entry\n",
    "        else:\n",
    "            pass\n",
    "        last_entry = entry\n",
    "    else:\n",
    "        count = 1\n",
    "        last_entry = entry\n",
    "             \n",
    "print(mean)\n",
    "print(median)\n",
    "print(mode)"
   ]
  },
  {
   "cell_type": "markdown",
   "metadata": {},
   "source": [
    "# Day 0: Weighted Mean"
   ]
  },
  {
   "cell_type": "code",
   "execution_count": 30,
   "metadata": {},
   "outputs": [
    {
     "name": "stdin",
     "output_type": "stream",
     "text": [
      " 5\n",
      " 10 40 30 50 20\n",
      " 1 2 3 4 5\n"
     ]
    },
    {
     "name": "stdout",
     "output_type": "stream",
     "text": [
      "32.0\n"
     ]
    }
   ],
   "source": [
    "N = int(input())\n",
    "\n",
    "X = list(map(int, input().strip().split(' ')))\n",
    "W = list(map(int, input().strip().split(' ')))\n",
    "\n",
    "weighted_mean = sum([X[i] * W[i] for i in range(N)]) / sum(W)\n",
    "print(\"%.1f\" %weighted_mean)"
   ]
  },
  {
   "cell_type": "code",
   "execution_count": null,
   "metadata": {},
   "outputs": [],
   "source": []
  }
 ],
 "metadata": {
  "kernelspec": {
   "display_name": "Python 3",
   "language": "python",
   "name": "python3"
  },
  "language_info": {
   "codemirror_mode": {
    "name": "ipython",
    "version": 3
   },
   "file_extension": ".py",
   "mimetype": "text/x-python",
   "name": "python",
   "nbconvert_exporter": "python",
   "pygments_lexer": "ipython3",
   "version": "3.7.0"
  }
 },
 "nbformat": 4,
 "nbformat_minor": 2
}
